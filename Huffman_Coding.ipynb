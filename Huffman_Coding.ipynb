{
 "cells": [
  {
   "cell_type": "code",
   "execution_count": 28,
   "metadata": {},
   "outputs": [],
   "source": [
    "%matplotlib inline\n",
    "\n",
    "import math\n",
    "import matplotlib.pyplot as plt\n",
    "import numpy as np\n",
    "import os\n",
    "import random\n",
    "\n",
    "from collections import Counter\n",
    "from scipy.stats import entropy"
   ]
  },
  {
   "cell_type": "markdown",
   "metadata": {},
   "source": [
    "# Huffman Compression Algorithm\n",
    "\n",
    "## What is compression?\n",
    "Throughout time, computers have always had an issue with insufficient resources. The two being processing power and memory. \n",
    "\n",
    "* **Compression** is the process of utilizing processing power to produce files with smaller sizes than their uncompressed counterparts, which can be **decompressed**. \n",
    "    \n",
    "* **Decompression** is the reverse process - reverting the compressed files back to their original form.\n",
    "\n",
    "### How does compression work?\n",
    "\n",
    "The compression process is a rather simple one - finding a way to **express the same data in a different way, that requires less memory** than the original.\n",
    "\n",
    "\n",
    "### An example of compression\n",
    "\n",
    "Consider the following character sequence:\n",
    "#### aaaabbbc\n",
    "        \n",
    "We can use a method called **[Run-length encoding](https://en.wikipedia.org/wiki/Run-length_encoding)** to transform the sequence into:\n",
    "\n",
    "#### <font color=\"red\">4</font>a<font color=\"red\">3</font>bc\n",
    "\n",
    "We have in fact, compressed the information. The first string requires **8 bytes** of storage, while the second one only requires **5 bytes**.\n",
    "\n",
    "The information, albeit shorter now, is more complex.\n",
    "\n",
    "##### Both compression and decompression require processing power. \n",
    "##### In the case of Run-lenght encoding, compressed data is still easily readable. This is not always the case with other compression algorithms."
   ]
  },
  {
   "cell_type": "markdown",
   "metadata": {},
   "source": [
    "### Lossless and Lossy Compression\n",
    "\n",
    "Both Run-length encoding and Huffman Compression are **Lossless** compression algorithms, as no data is lost during compression and it's fully recovered after decompression.\n",
    "\n",
    "In **Lossy** compression, parts of the data are deemed **insignificant** and are **entirely skipped or simplified** using different techniques such as averaging or approximation.\n",
    "\n",
    "\n",
    "### Why would you ever use Lossy Compression?\n",
    "\n",
    "\n",
    "Even though in present time most computers have large amounts of memory available, storing different media files in their pure form takes suprisingly large amounts of space.\n",
    "\n",
    "Let's have a look at two images."
   ]
  },
  {
   "cell_type": "code",
   "execution_count": 29,
   "metadata": {
    "scrolled": true
   },
   "outputs": [
    {
     "data": {
      "text/html": [
       "<table><tr><td><img src=\"images/k2.jpg\"/></td><td><img src=\"images/k2-50.jpg\"/></td></tr></table>\n"
      ],
      "text/plain": [
       "<IPython.core.display.HTML object>"
      ]
     },
     "metadata": {},
     "output_type": "display_data"
    }
   ],
   "source": [
    "%%html\n",
    "<table><tr><td><img src=\"images/k2.jpg\"/></td><td><img src=\"images/k2-50.jpg\"/></td></tr></table>"
   ]
  },
  {
   "cell_type": "markdown",
   "metadata": {},
   "source": [
    "#### The images look the same don't they? Let's check their file sizes in bytes.\n",
    "(You might need to zoom in if you are looking at them in a browser, the left image appears much more blurry on Chrome @ 1920x1080 at 100% zoom, this is because of browser rendering)"
   ]
  },
  {
   "cell_type": "code",
   "execution_count": 30,
   "metadata": {},
   "outputs": [
    {
     "name": "stdout",
     "output_type": "stream",
     "text": [
      "484608 218836\n"
     ]
    }
   ],
   "source": [
    "size1 = os.path.getsize('images/k2.jpg')\n",
    "size2 = os.path.getsize('images/k2-50.jpg')\n",
    "print(size1, size2)"
   ]
  },
  {
   "cell_type": "markdown",
   "metadata": {},
   "source": [
    "The second image is more than 2 times smaller than the first one.\n",
    "\n",
    "The reason being that, **JPEG is a lossy compression method**. In the last example, there is almost no noticable difference between the images.\n",
    "\n",
    "Let's see how the image looks like when it's compressed to less than **10% of it's original size**.\n",
    "\n",
    "<img src=\"images/k2-10.jpg\" width=\"50%\"/>"
   ]
  },
  {
   "cell_type": "code",
   "execution_count": 31,
   "metadata": {},
   "outputs": [
    {
     "data": {
      "text/plain": [
       "33657"
      ]
     },
     "execution_count": 31,
     "metadata": {},
     "output_type": "execute_result"
    }
   ],
   "source": [
    "os.path.getsize('images/k2-10.jpg')"
   ]
  },
  {
   "cell_type": "markdown",
   "metadata": {},
   "source": [
    "We can see that the image is starting to **lose a lot of details**, and there are a lot of **noticable artifacts**.\n",
    "\n",
    "### To get away with lossy compression, we need to be very careful of how much detail we lose."
   ]
  },
  {
   "cell_type": "markdown",
   "metadata": {},
   "source": [
    "## Why do we compress data at all?\n",
    "\n",
    "In the real world, large datasets are very similar in structure or content.\n",
    "\n",
    "The image above in a non-compressed format, such as **.BMP** would take much more space. A **Bitmap** is a raster format where for each pixel of the image the RGB values are saved as bytes. A **24-bit Bitmap uses 8 bits for each color of each pixel. That's 3 bytes for every pixel on the image.**\n",
    "\n",
    "The image above has the size of a standard Full HD screen, **1920 x 1080**.\n",
    "\n",
    "Excluding metadata in the file, it would take at least **6 220 800 bytes** to store the same image as a **.BMP**.\n",
    "\n",
    "Let's take a look at **video data**. We now know that we need around **6 MB** for a single 1920 x 1080 RGB Colored image, which we will call a **frame**.\n",
    "\n",
    "Standard video formats play at around **25 frames per second**. For the average movie, with a duration of around **01:30:00** that's **5 400 seconds**. At 25 frames per second, that's **135 000** different frames for the whole movie.\n",
    "\n",
    "Saving this amount of data pure and uncompressed, would take more than **810 000 MB (>791 GB)** of storage, and we haven't taken audio into account yet!\n",
    "\n",
    "#### We have to be aware that there is no \"best\" compression method for all kinds of data, as all data is different and there are different ways to compress said data.\n",
    "\n",
    "##### Yet, we all watch Full HD movies on Blu-Ray or even stream them over the internet. <font color=\"red\">Thanks compression!</font>\n",
    "\n",
    "\n",
    "\n"
   ]
  },
  {
   "cell_type": "markdown",
   "metadata": {},
   "source": [
    "## What is Huffman Compression?\n",
    "\n",
    "The algorithm can be summarized as follows:\n",
    "* Find the repeating data units\n",
    "* Order the repeating data units by their frequency in the dataset\n",
    "* Assign shorter keys to units that are seen more frequently and longer keys to units that are seen less frequently.\n",
    "* Use the keys to express the data\n",
    "\n",
    "##### Now let's get into details.\n",
    "\n",
    "## Getting to know the data we are compressing\n",
    "\n",
    "We first need to be aware what kind of data we are dealing with. To be able to compress, **we need to find things that repeat or are related** and express them in a more compact way. The amount of **suprise data** we have is inversely proportional to the efficiency of the compression. In information theory, this amount of uncertainty or **suprise** is called **entropy**.\n",
    "\n",
    "\n",
    "## What is entropy?\n",
    "\n",
    "In all scientific fields, **entropy** is a measure of **the amount of chaos in a system**. \n",
    "\n",
    "In information theory, **entropy is the expected value of the self-information**, it measures the **unpredictability** of a particular event and the **average amount of information** that particular event gives us. \n",
    "\n",
    "##### To get a better understanding of it, let's plot the entropy of different types of coins, biased and fair."
   ]
  },
  {
   "cell_type": "code",
   "execution_count": 32,
   "metadata": {},
   "outputs": [
    {
     "data": {
      "image/png": "[encoded data removed]",
      "text/plain": [
       "<Figure size 432x288 with 1 Axes>"
      ]
     },
     "metadata": {
      "needs_background": "light"
     },
     "output_type": "display_data"
    }
   ],
   "source": [
    "def plot_coin_entropy(number_of_coins):\n",
    "    \"\"\"Plots the entropy of differently biased coins\"\"\"\n",
    "    \n",
    "    #Each coin will have a probability for heads and tails, which should sum up to a total of 1\n",
    "    heads_probabilities = np.arange(0, 1, 1 / number_of_coins)\n",
    "    tails_probabilities = np.arange(1, 0, -1 / number_of_coins)\n",
    "\n",
    "    #Sum the probabilities\n",
    "    total_prob = heads_probabilities + tails_probabilities\n",
    "\n",
    "    #Ensure that the sum of probabilities are equal to 1\n",
    "    all_probabilities_equal_to_1 = not np.all(total_prob == 1)\n",
    "    assert all_probabilities_equal_to_1\n",
    "    \n",
    "    \n",
    "    entropy_values = []\n",
    "    #Calculate the entropy for each coin using scipy.stats.entropy()\n",
    "    for i in range(0, number_of_coins):\n",
    "        entropy_value = entropy([heads_probabilities[i], tails_probabilities[i]], base = 2)\n",
    "        entropy_values.append(entropy_value)\n",
    "        \n",
    "    #Configure plot\n",
    "    ax = plt.figure().gca()\n",
    "    ax.set_aspect('equal', adjustable='box')\n",
    "    ax.set_xticks(np.arange(0, 1.1, 0.1))\n",
    "    ax.set_yticks(np.arange(0, 1.1, 0.1))\n",
    "    plt.xlabel('Probability of the coin [X] to land Heads')\n",
    "    plt.ylabel('Entropy H(X)')\n",
    "    plt.grid(ls = '--')\n",
    "    plt.plot(heads_probabilities, entropy_values)\n",
    "    \n",
    "\n",
    "plot_coin_entropy(1000)"
   ]
  },
  {
   "cell_type": "markdown",
   "metadata": {},
   "source": [
    "### We can see that the more biased a coin is, the lower the entropy.\n",
    "\n",
    "Given a random variable ${X}$, with possible outcomes ${x_{i}}$, each with probability ${P_{X}(x_{i})}$, the entropy ${H(X)}$ of ${X}$ is as follows:"
   ]
  },
  {
   "cell_type": "markdown",
   "metadata": {},
   "source": [
    "\\begin{equation*}\n",
    "H(X)=-\\sum _{i}P_{X}(x_{i})\\log _{b}{P_{X}(x_{i})}=\\sum _{i}P_{X}(x_{i})I_{X}(x_{i})=\\operatorname {E} [I_{X}]\n",
    "\\end{equation*}\n"
   ]
  },
  {
   "cell_type": "markdown",
   "metadata": {},
   "source": [
    "Information entropy is typically measured in **bits**, corresponding to base **2** in the equation and the **.entropy()** function in the code above. Other units might also be used.\n",
    "\n",
    "Remember ***Run-length encoding***? The compressed sequence has a higher **entropy rate** than it's non-compressed counterpart, as each character is **more surprising** and carries **more information**."
   ]
  },
  {
   "cell_type": "markdown",
   "metadata": {},
   "source": [
    "## How does entropy help us compress data?\n",
    "\n",
    "Let's say that we had to guess a number between 1 and 8, with each number having the same odds of being chosen (**12.5%** or **1 / 8**).\n",
    "\n",
    "##### What is the minimum amount of  **yes/no *(binary)*** questions we have to ask in order to arrive at the correct number?\n",
    "\n",
    "The answer is the **entropy of the system**, which is equal to ${\\log _{2} 8} = 3$."
   ]
  },
  {
   "cell_type": "markdown",
   "metadata": {},
   "source": [
    "# Binary search trees\n",
    "\n",
    "A binary search tree is a data structure that allows for fast lookup by **comparing elements**.\n",
    "\n",
    "Everyone has played the game where you had to guess a number between 1 and 100. The easiest way to find the number is to perform a **binary search**.\n",
    "\n",
    "### What is binary search?\n",
    "\n",
    "Let's say we had to guess a number between 1 and 4, with each number being equally likely to have been chosen.\n",
    "\n",
    "<img src=\"images/bst_4.png\" width=\"40%\"/>\n",
    "\n",
    "Every **no** answer, we will code **as 0** and every **yes** answer, we will code **as 1**.\n",
    "\n",
    "The **binary codes** for every number would be as follows:\n",
    "* **00** - 1\n",
    "* **01** - 2\n",
    "* **10** - 3\n",
    "* **11** - 4\n",
    "\n",
    "Each code is of **equal length**, as each outcome has the same probability of happening. This does not help us compress anything, because we **cannot express data in any shorter way**.\n",
    "\n",
    "But what if the **codes** were of **different lengths**?\n",
    "\n",
    "Let's now use the concept of **entropy**. What if the person asking us to guess the number **really likes the number 3** and picks it **85% of the time** ?\n",
    "\n",
    "We now have **significant information** and **different probabilities** that can help us in our guess.\n",
    "Let's change the binary search tree a little bit.\n",
    "\n",
    "<img src=\"images/bst_3.png\" width=\"40%\"/>"
   ]
  },
  {
   "cell_type": "markdown",
   "metadata": {},
   "source": [
    "We have the following lookup table containing answers to the questions in binary, with **different lengths**. We have indeed created is called a **Huffman Tree**.\n",
    "\n",
    "* 1 - **01**\n",
    "* 2 - **001**\n",
    "* 3 - **1**\n",
    "* 4 - **000**\n",
    "\n",
    "\n",
    "#### The Huffman Tree helps us resolve data in a shorter way, dependent on it's weight in a system.\n",
    "\n",
    "If we had to guess numbers at **equal probabilities** (using the first tree) the questions we would ask to resolve the number sequence\n",
    "```\n",
    "33213413\n",
    "```\n",
    "\n",
    "Would be: ```yes no; yes no; no yes; no no; yes no; yes yes; no no; yes no```\n",
    "\n",
    "In binary: ```10 10 01 00 10 11 00 10```\n",
    "\n",
    "##### That's <font color=\"red\">16 bits</font> (the total number of answers).\n",
    "\n",
    "Let's now resolve the same sequence with the second approach (the **Huffman Tree**), with **different probabilities** for each number.\n",
    "\n",
    "Answers: ```yes; yes; no no yes; no yes; yes; no no no; no yes; yes```\n",
    "\n",
    "Binary: ```1 1 001 01 1 000 01 1```\n",
    "\n",
    "##### That's <font color=\"red\">14 bits</font> (we have <font color=\"red\">2 answers less</font> and have still resolved all numbers).\n",
    "\n",
    "### The role of the Huffman Tree\n",
    "By using a **Huffman Tree**, we are trying to reduce the average amount of questions asked before coming to a conclusion about the data. The **data that is more likely to appear is expressed in a shorter way than data that is less likely to appear**.\n",
    "\n",
    "\n",
    "\n",
    "##### Let's simulate the situation where we are given a sequence of numbers, and we try to guess them using both methods, knowing that the odds of getting a ```3``` is 85%. "
   ]
  },
  {
   "cell_type": "code",
   "execution_count": 34,
   "metadata": {},
   "outputs": [],
   "source": [
    "def huffman_tree_encode(n):\n",
    "    output = ''\n",
    "    n = int(n)\n",
    "    if n == 3:\n",
    "        output += '1'\n",
    "    else:\n",
    "        output += '0'\n",
    "        if n == 1:\n",
    "            output += '1'\n",
    "        else:\n",
    "            output += '0'\n",
    "            if n == 2:\n",
    "                output += '1'\n",
    "            else:\n",
    "                output += '0'\n",
    "    \n",
    "    return output\n",
    "\n",
    "def bst_encode(n):\n",
    "    n = int(n) - 1\n",
    "    return f'{int(n/2)}{n%2}'"
   ]
  },
  {
   "cell_type": "markdown",
   "metadata": {},
   "source": [
    "Let's write some tests to ensure that the code returns the correct values from the above tables. \n",
    "\n",
    "If the functions work correctly we should get ```Pass!``` twice."
   ]
  },
  {
   "cell_type": "code",
   "execution_count": 35,
   "metadata": {},
   "outputs": [
    {
     "name": "stdout",
     "output_type": "stream",
     "text": [
      "Pass!\n",
      "Pass!\n"
     ]
    }
   ],
   "source": [
    "def test_huffman_tree_encode():\n",
    "    assert huffman_tree_encode('1') == '01'\n",
    "    assert huffman_tree_encode('2') == '001'\n",
    "    assert huffman_tree_encode('3') == '1'\n",
    "    assert huffman_tree_encode('4') == '000'\n",
    "    \n",
    "    print('Pass!')\n",
    "    \n",
    "def test_bst_encode():\n",
    "    assert bst_encode('1') == '00'\n",
    "    assert bst_encode('2') == '01'\n",
    "    assert bst_encode('3') == '10'\n",
    "    assert bst_encode('4') == '11'\n",
    "    \n",
    "    print('Pass!')\n",
    "    \n",
    "test_huffman_tree_encode()\n",
    "test_bst_encode()"
   ]
  },
  {
   "cell_type": "markdown",
   "metadata": {},
   "source": [
    "#### Now it's time to generate the sequences of numbers."
   ]
  },
  {
   "cell_type": "code",
   "execution_count": 36,
   "metadata": {},
   "outputs": [],
   "source": [
    "def generate_sequence(length):\n",
    "    output = '';\n",
    "    \n",
    "    for i in range(length):\n",
    "        n = random.randint(1,100)\n",
    "        if n <= 85: \n",
    "            output += '3'\n",
    "        elif n <= 90: \n",
    "            output += '1'\n",
    "        elif n <= 95: \n",
    "            output += '2'\n",
    "        else:\n",
    "            output += '4'\n",
    "    \n",
    "    return output"
   ]
  },
  {
   "cell_type": "markdown",
   "metadata": {},
   "source": [
    "#### Let's test the length of the ouput to make sure the function works correctly. \n",
    "\n",
    "We should get a ```Pass!``` here as well."
   ]
  },
  {
   "cell_type": "code",
   "execution_count": 37,
   "metadata": {},
   "outputs": [
    {
     "name": "stdout",
     "output_type": "stream",
     "text": [
      "Pass!\n"
     ]
    }
   ],
   "source": [
    "def test_generate_sequence():\n",
    "    assert len(generate_sequence(10)) == 10\n",
    "    assert len(generate_sequence(100)) == 100\n",
    "    \n",
    "    print(\"Pass!\")\n",
    "    \n",
    "test_generate_sequence()"
   ]
  },
  {
   "cell_type": "markdown",
   "metadata": {},
   "source": [
    "#### Time to compare the output length of the two methods of encoding"
   ]
  },
  {
   "cell_type": "code",
   "execution_count": 38,
   "metadata": {},
   "outputs": [
    {
     "data": {
      "image/png": "[encoded data removed]",
      "text/plain": [
       "<Figure size 432x288 with 1 Axes>"
      ]
     },
     "metadata": {
      "needs_background": "light"
     },
     "output_type": "display_data"
    }
   ],
   "source": [
    "def plot_encoded_length(min_numbers, max_numbers, samples, tree_length):\n",
    "    x = np.arange(min_numbers, max_numbers+1)\n",
    "    y_huffman = []\n",
    "    ## each number encoded by the binary search tree is always 2 characters long\n",
    "    y_bst = x * 2\n",
    "    \n",
    "    for i in range(min_numbers, max_numbers+1):\n",
    "        arr = []\n",
    "        # Take samples and get an average for more consistency\n",
    "        for j in range(samples):\n",
    "            data = generate_sequence(i)\n",
    "            encoded_sequence = \"\"\n",
    "            for char in data:\n",
    "                encoded_sequence += huffman_tree_encode(char)\n",
    "                \n",
    "            arr.append(len(encoded_sequence))\n",
    "        \n",
    "        ## add the average + tree length\n",
    "        y_huffman.append(sum(arr) / len(arr) + tree_length)\n",
    "    \n",
    "    \n",
    "    plt.xlabel(\"Total numbers to encode / guess\")\n",
    "    plt.ylabel(\"Total number of characters in encoded data\")\n",
    "    plt.plot(x, y_huffman, label = \"Huffman\")\n",
    "    plt.plot(x, y_bst, label = \"BST\")\n",
    "    plt.legend()\n",
    "    plt.show()\n",
    "        \n",
    "plot_encoded_length(10, 150, 30, 20)"
   ]
  },
  {
   "cell_type": "markdown",
   "metadata": {},
   "source": [
    "#### We notice that for smaller amounts of data, the Huffman compression actually takes *more* space, but as the amount of data increases the compression becomes more efficient. This depends on the length of *metadata* and *compressed data*. We will talk about those two later.\n",
    "\n",
    "\n",
    "## How do you build a Huffman Tree?\n",
    "The above example is too simple. We could intuitively figure out that as the number ```3``` is seen more often, we would of course express it in a shorter way (ask whether the number is ```3``` right away). Let's see how this method works when we work with more **complex data** (ex. file or text).\n",
    "\n",
    "#### The steps to build a Huffman Tree are as follows:\n",
    "1. **Analyze the data**, find out which pieces of it are **repeated the most**\n",
    "2. **Order** the data units **by frequency**\n",
    "3. **Assign shorter paths** in The Huffman Tree **to data units that are more frequent and longer paths to those less frequent**.\n",
    "\n",
    "Consider the following text:\n",
    "```still so silly```\n",
    "\n",
    "#### Analyzing the data\n",
    "\n",
    "* s - 3\n",
    "* o - 1\n",
    "* t - 1\n",
    "* i - 2\n",
    "* l - 4\n",
    "* y - 1\n",
    "* [whitespace] - 2\n",
    "\n",
    "\n",
    "#### Ordering the data units by frequency\n",
    "\n",
    "* **4** - l\n",
    "* **3** - s\n",
    "* **2** - i\n",
    "* **2** - [whitespace]\n",
    "* **1** - o\n",
    "* **1** - t\n",
    "* **1** - y\n",
    "\n",
    "\n",
    "#### Assigning paths in the Binary Search Tree\n",
    "\n",
    "In order to correctly build the tree, we must start from the **least frequent** units.\n",
    "<img src=\"images/tree_1.png\" width=\"60%\"/>\n",
    "\n",
    "We treat every **tree as a node** with it's value being **equal to the sum of it's children's frequencies** (denoted on the bottom right of each node).\n",
    "<img src=\"images/tree_2.png\" width=\"60%\"/>\n",
    "\n",
    "We now have following characters remaining:\n",
    "* **4** - l\n",
    "* **3** - s\n",
    "* **2** - i\n",
    "\n",
    "And as well the two **smaller trees** with their respective total weights.\n",
    "* **3** - ```[whitespace]o```\n",
    "* **2** - ```ty```\n",
    "\n",
    "In the next step we again take the two smallest values, and create new **tree**.\n",
    "<img src=\"images/tree_3.png\" width=\"60%\"/>\n",
    "\n",
    "We are left with the following:\n",
    "* **4** - l\n",
    "* **4** - ```i(ty)```\n",
    "* **3** - ```[whitespace]o```\n",
    "* **3** - s\n",
    "\n",
    "We add the **3 - s** node and group it together with the small tree with total weight =  **3**.\n",
    "\n",
    "<img src=\"tree_4.png\" width=\"60%\"/>\n",
    "\n",
    "We are left with the following:\n",
    "* **6** - ```s([whitespace]o)```\n",
    "* **4** - l\n",
    "* **4** - ```i(ty)```\n",
    "\n",
    "We take the node **4 - l** and the tree with total weight **4**, group them in another tree with a total weight = **8**.\n",
    "\n",
    "<img src=\"images/tree_5.png\" width=\"60%\"/>\n",
    "\n",
    "We only have 2 nodes left, we combine them into a tree and have **built the Huffman Tree**.\n",
    "<img src=\"images/tree_6.png\" width=\"60%\"/>"
   ]
  },
  {
   "cell_type": "markdown",
   "metadata": {},
   "source": [
    "### Let's now figure out the huffman codes.\n",
    "\n",
    "For every time we go **left**, we will write a **0**, and for every time we go right, we will write a **1**.\n",
    "\n",
    "* ```s``` - **00**\n",
    "* ``` ``` - **010**\n",
    "* ```o``` - **011**\n",
    "* ```l``` - **11**\n",
    "* ```i``` - **101**\n",
    "* ```t``` - **1000**\n",
    "* ```y``` - **1001**\n",
    "\n",
    "As we can see, the most frequent character ```s``` has the **shortest huffman code**, while the two least frequent characters ```t y``` have the **longest huffman codes**.\n",
    "\n",
    "Expressing the **14** character long text as 8-bit characters (1 byte for each character) would require **112 bits**.\n",
    "Expressing the same text using the **huffman codes** would look like this:"
   ]
  },
  {
   "cell_type": "code",
   "execution_count": 39,
   "metadata": {},
   "outputs": [
    {
     "name": "stdout",
     "output_type": "stream",
     "text": [
      "0010001011111010000110100010111111001\n",
      "Length:  37\n"
     ]
    }
   ],
   "source": [
    "def replace_with_huffman_codes():\n",
    "    s = 'still so silly'\n",
    "    s = s.replace('s', '00')\n",
    "    s = s.replace(' ', '010')\n",
    "    s = s.replace('o', '011')\n",
    "    s = s.replace('l', '11')\n",
    "    s = s.replace('i', '101')\n",
    "    s = s.replace('t', '1000')\n",
    "    s = s.replace('y', '1001')\n",
    "    \n",
    "    print(s)\n",
    "    print(\"Length: \", len(s))\n",
    "    \n",
    "replace_with_huffman_codes()"
   ]
  },
  {
   "cell_type": "markdown",
   "metadata": {},
   "source": [
    "Just **37 bits**, amazing!\n",
    "\n",
    "But now, this data is **compressed** and it wouldn't at all resolve to the same text if we read it the way we read **uncompressed** data."
   ]
  },
  {
   "cell_type": "markdown",
   "metadata": {},
   "source": [
    "\n",
    "## How do we get the original data back?\n",
    "\n",
    "In order to resolve the sequence back to the original data, all we have to do is **follow the Huffman tree**.\n",
    "\n",
    "By starting at the top and interpreting each **bit** as a **go left** or **go right**, the moment we come to a **leaf** (endpoint) in the tree is when we know that the **bit sequence** resolves to the character in that specific leaf node of the tree. This code system is called **prefix coding**.\n",
    "\n",
    "Let's resolve the code ```0001110111```. This sequence uses the same **Huffman tree** that we created from ```still so silly```.\n",
    "\n",
    "The first character is a **0** - we move **left**, the next one is also a **0** so we move right. We have reached the **leaf** node with the character ```s```.\n",
    "\n",
    "<img src=\"images/tree_resolve_1.png\" width=\"60%\"/>\n",
    "\n",
    "The next three characters ```011```, resolve as follows to the character ```o```.\n",
    "\n",
    "<img src=\"images/tree_resolve_2.png\" width=\"60%\"/>\n",
    "\n",
    "The following ```101``` resolves to ``i`` (**right>left>left**)\n",
    "\n",
    "The last bits - ``11`` resolve to ``l`` (**right>right**)\n",
    "\n",
    "**The original data was ``soil``**.\n",
    "\n",
    "#### To be able to resolve encoded data, we need to know the *Huffman codes* or the *Huffman tree*\n",
    "\n",
    "## Storing Huffman Trees\n",
    "\n",
    "Storing the huffman codes by themselves is inefficient, as systems **require** us to write a **full byte** (8 bits) of data before it can be saved in any kind of memory. **Huffman codes are usually shorter than 8 bits**.\n",
    "\n",
    "We **need to know** where and how exactly to **read the tree** because if we don't get it right, data will not **make any sense after decompresion**. To do so, we will use the concepts of **metadata** and **serialization**.\n",
    "\n",
    "##### Metadata is simply information about other data. \n",
    "\n",
    "We can store the huffman tree on top of the file, just like HTML has ``<head>`` and ``<body>``, where the ``<head>`` tag provides information about how to resolve the ``<body>`` such as the charset that it uses.\n",
    "\n",
    "There are a few things required so we can **ensure that encoded data and metadata are correct** and **the data is not corrupt**.\n",
    "* Total length of the **uncompressed** data (to ensure that decompression is correct)\n",
    "* Total length of the **compressed** data (to ensure there is no confusion between ***metadata*** and ***compressed data***)\n",
    "* Total length of the **metadata**\n",
    "\n",
    "#### Let's take the left part of our ``still so silly`` tree.\n",
    "\n",
    "<img src=\"images/storage_1.png\" width=\"25%\"/>\n",
    "\n",
    "To express this tree in a human-readable format we can use **XML tags**.\n",
    "\n",
    "```xml\n",
    "<node>\n",
    "\t<left>'s'</left>\n",
    "\t<right>\n",
    "\t\t<node>\n",
    "\t\t\t<left>' '</left>\n",
    "\t\t\t<right>'o'</right>\n",
    "\t\t</node>\n",
    "\t</right>\n",
    "</node>\n",
    "```\n",
    "\n",
    "We have **serialized** the tree as **XML**.\n",
    "This format though, takes way too much space. Let's try to ***compress*** it while still **keeping the data easily readable by a machine**.\n",
    "\n",
    "Let's shorten the tags:\n",
    "* ``<node>`` becomes ``<n>``\n",
    "* ``<left>`` becomes ``<l>``\n",
    "* ``<right>``  becomes ``<r>``\n",
    "* We remove the ``''`` (quotation marks) as they are just for clarity\n",
    "\n",
    "The tree can now be expressed as follows:\n",
    "\n",
    "```xml\n",
    "<n>\n",
    "\t<l>s</l>\n",
    "\t<r>\n",
    "\t\t<n>\n",
    "\t\t\t<l> </l>\n",
    "\t\t\t<r>o</r>\n",
    "\t\t</n>\n",
    "\t</r>\n",
    "</n>\n",
    "```\n",
    "\n",
    "We can remove the **tab** and **newline** characters as they are just for human comfort when reading.\n",
    "\n",
    "The tree now looks like this:\n",
    "\n",
    "```<n><l>s</l><r><n><l> </l><r>o</r></n></r></n>```\n",
    "\n",
    "As we are only interested in **one character for each node**, be it **left or right** we can use the character after the opening tag ( ``l`` or ``r``) to specify the character.\n",
    "\n",
    "This sequence is **45** characters long.\n",
    "\n",
    "The longest this sequence can get is when we have all **256 possible ASCII characters**. Let's calculate it's length."
   ]
  },
  {
   "cell_type": "code",
   "execution_count": 40,
   "metadata": {},
   "outputs": [
    {
     "name": "stdout",
     "output_type": "stream",
     "text": [
      "Pass!\n"
     ]
    }
   ],
   "source": [
    "def create_xml_node(depth):\n",
    "    # using ' ' (whitespace) instead of any of the 256 possible characters\n",
    "    if(depth > 1):\n",
    "        return '<n><l>' + create_xml_node(depth - 1) + '</l><r>' + create_xml_node(depth - 1) + '</r></n>';\n",
    "    else:\n",
    "        return '<n><l> </l><r> </r></n>';\n",
    "    \n",
    "    \n",
    "def test_create_xml_node():\n",
    "    # if result is correct, number of whitespaces should be equal to (2 ^ depth)\n",
    "    assert 2 ** 8 == create_xml_node(8).count(' ')\n",
    "    assert 2 ** 4 == create_xml_node(4).count(' ')\n",
    "    \n",
    "    print(\"Pass!\")\n",
    "    \n",
    "test_create_xml_node()"
   ]
  },
  {
   "cell_type": "code",
   "execution_count": 41,
   "metadata": {},
   "outputs": [
    {
     "data": {
      "text/plain": [
       "5611"
      ]
     },
     "execution_count": 41,
     "metadata": {},
     "output_type": "execute_result"
    }
   ],
   "source": [
    "len(create_xml_node(8))"
   ]
  },
  {
   "cell_type": "markdown",
   "metadata": {},
   "source": [
    "This though, is still **way too large**. That's almost **6 KB** of storage just for the tree. \n",
    "If we add a few more characters for compressed/uncompressed data length and total metadata length, we will get around **5700 bytes**. (We will need this number soon enough).\n",
    "\n",
    "We can use a different approach, called **Succinct Encoding**. We can build the tree from the **top down** starting from the **left** child, then the **right** child. This is called **Preorder traversal**.\n",
    "\n",
    "* We will use ``(`` to denote the **start** of a node.\n",
    "* The following characters will describe the **left child**. If it's a leaf node, we will just write the character (ex. ``a``).\n",
    "\n",
    "* If its another **node**, we write another ``(`` and repeat the previous step to encode it's children until we finally reach a **leaf node**.\n",
    "\n",
    "* After we successfully encode the left node, we take the next character and encode the **right node** the same way.\n",
    "\n",
    "\n",
    "We also need to make sure that the **serialized data that cannot be interpreted in more than one way**. Files can contain **any 8 byte character from the ASCII table**.\n",
    "\n",
    "In order to **avoid confusion between actual characters and characters that describe the tree**, we will use an escape character ``\\``.\n",
    "* ``\\`` becomes ``\\\\``\n",
    "* ``(`` becomes ``\\(``\n",
    "\n",
    "Let's see how this will look like for the following tree:\n",
    "<img src=\"images/tree_escape.png\" width=\"30%\"/>\n",
    "\n",
    "1. Starting at the root node, we write a ``(`` as it's the beginning of a tree\n",
    "2. We look at the left node, it's not a leaf node so we write another ``(``\n",
    "3. The left character is a leaf node with the character ``(``, we escape it ``\\(`` to clarify that it's **just the character and not a new node**\n",
    "4. We have serialized the **left leaf node** now we can move to the **right node**\n",
    "5. The right node is a **leaf node** with the character ``)`` we write it down\n",
    "6. We are **finished serializing the left child of the root node**, now we move to the **right child of the root node**\n",
    "7. The right node is a **leaf node** with the character ``\\``, to avoid confusion we escape it write it as ``\\\\``\n",
    "\n",
    "#### The result of the serialization is: ``((\\()\\\\``. This takes only *7 bytes* to store.\n",
    "\n",
    "##### Let's compare the two ways to serialize data and their worst case scenarios."
   ]
  },
  {
   "cell_type": "code",
   "execution_count": 42,
   "metadata": {},
   "outputs": [
    {
     "name": "stdout",
     "output_type": "stream",
     "text": [
      "Pass!\n"
     ]
    }
   ],
   "source": [
    "def create_succinct_node(depth):\n",
    "    # using ' ' (whitespace) instead of any of the 256 possible characters\n",
    "    if(depth > 1):\n",
    "        return '(' + create_succinct_node(depth - 1) + create_succinct_node(depth - 1);\n",
    "    else:\n",
    "        ## two whitespaces for left and right leaf nodes\n",
    "        return '  ';\n",
    "    \n",
    "    \n",
    "def test_create_succinct_node():\n",
    "    # if result is correct, number of whitespaces(leaf nodes) should be equal to (2 ^ depth)\n",
    "    assert 2 ** 8 == create_succinct_node(8).count(' ')\n",
    "    assert 2 ** 4 == create_succinct_node(4).count(' ')\n",
    "    \n",
    "    print(\"Pass!\")\n",
    "    \n",
    "test_create_succinct_node()"
   ]
  },
  {
   "cell_type": "code",
   "execution_count": 43,
   "metadata": {},
   "outputs": [
    {
     "data": {
      "text/plain": [
       "385"
      ]
     },
     "execution_count": 43,
     "metadata": {},
     "output_type": "execute_result"
    }
   ],
   "source": [
    "# As we have 2 characters that require escaping, we must add 2 to the length of the tree\n",
    "len(create_succinct_node(8)) + 2"
   ]
  },
  {
   "cell_type": "markdown",
   "metadata": {},
   "source": [
    "Just **385 bytes**. That's much better than the XML approach. Taking into account the rest of the **metadata**, which would be just **3 integers** (2 * 8 bytes for data sizes, and 2 bytes for the metadata size itself), we can be sure that **metadata will take no more than 403 bytes** to store.\n",
    "\n",
    "### Why does metadata size matter?\n",
    "\n",
    "Modern computers store data on the drive in **chunks**. Chunks are the smallest **cells** in a storage device where data can be saved. In most modern storage devices standard chunk size is **4 KiB** or **4096 bytes**. A file, with a size of **4096 bytes** takes **1 chunk**, but a file sized **4097 bytes** would take **2 chunks**.\n",
    "\n",
    "The **XML serialization** (5611 bytes) would have taken one whole chunk, and **1515 bytes** from the second one. This means the second chunk is left with just **2581 bytes to store actual compressed data**.\n",
    "\n",
    "In **succinct serialization** (769 bytes) we have taken less than 20% of the chunk's size for metadata and have the remaining **3327 bytes to store actual compressed data**.\n",
    "\n",
    "Let's have a look at the sizes for different sized files with some reasonable compression ratio, and see when they become **efficient** (metadata + compressed data is shorter than the original data)"
   ]
  },
  {
   "cell_type": "code",
   "execution_count": 44,
   "metadata": {
    "scrolled": false
   },
   "outputs": [
    {
     "data": {
      "image/png": "[encoded data removed]",
      "text/plain": [
       "<Figure size 864x864 with 1 Axes>"
      ]
     },
     "metadata": {
      "needs_background": "light"
     },
     "output_type": "display_data"
    },
    {
     "data": {
      "image/png": "[encoded data removed]",
      "text/plain": [
       "<Figure size 864x864 with 1 Axes>"
      ]
     },
     "metadata": {
      "needs_background": "light"
     },
     "output_type": "display_data"
    }
   ],
   "source": [
    "def plot_compressed_file_sizes(uc_min_size, uc_max_size, compression_rate, metadatas):\n",
    "    ## Configure plot\n",
    "    fig = plt.figure(figsize=(12,12))\n",
    "    ax = fig.add_subplot(1, 1, 1)\n",
    "    \n",
    "    major_ticks = np.arange(0, uc_max_size + 1, 1000)\n",
    "    minor_ticks = np.arange(0, uc_max_size + 1, 200)\n",
    "\n",
    "    ax.set_xticks(major_ticks)\n",
    "    ax.set_xticks(minor_ticks, minor=True)\n",
    "    ax.set_yticks(major_ticks)\n",
    "    ax.set_yticks(minor_ticks, minor=True)\n",
    "    ax.grid(which='both')\n",
    "\n",
    "    ax.grid(which='minor', alpha = 0.2)\n",
    "    ax.grid(which='major', alpha = 1)\n",
    "    \n",
    "    ax.set_xlim(xmin=0)\n",
    "    ax.set_ylim(ymin=0)\n",
    "    \n",
    "    uncomp_sizes = np.linspace(uc_min_size, uc_max_size)\n",
    "    \n",
    "    plt.plot(uncomp_sizes, uncomp_sizes, label = \"Uncompressed\")\n",
    "    ##\n",
    "    \n",
    "    for md in metadatas:\n",
    "        sizes = (uncomp_sizes * compression_rate) + md[0]\n",
    "        plt.plot(uncomp_sizes, sizes, label = md[1] or None)\n",
    "        \n",
    "    plt.xlabel(\"Total uncompressed data size (B)\")\n",
    "    plt.ylabel(\"Total compressed data size (B)\")\n",
    "    plt.legend()\n",
    "    plt.show()\n",
    "    \n",
    "    \n",
    "plot_compressed_file_sizes(0, 20000, 0.7, [[403, \"Succinct\"], [5700, \"XML\"]])\n",
    "plot_compressed_file_sizes(0, 2000, 0.7, [[403, \"Succinct\"]])"
   ]
  },
  {
   "cell_type": "markdown",
   "metadata": {},
   "source": [
    "To figure out at what amounts of data the compressions become efficient, we just have to see where their lines on the plot cross with the one of the uncompressed data.\n",
    "\n",
    "We can now see that the **succinct** approach's metadata is starting to become efficient for compressing data at just around **1300 bytes** bytes, while the **XML** approach's metadata starts to become efficient at around **19000 bytes**."
   ]
  },
  {
   "cell_type": "markdown",
   "metadata": {},
   "source": [
    "## Implmenting Huffman Compression\n",
    "\n",
    "We now have all the knowledge to properly implement the algorithm and compress some data.\n",
    "\n",
    "Let's start with implementing a **node**."
   ]
  },
  {
   "cell_type": "code",
   "execution_count": 46,
   "metadata": {},
   "outputs": [
    {
     "name": "stdout",
     "output_type": "stream",
     "text": [
      "ctor() tests passed\n",
      "is_leaf() method tests passed\n",
      "Node class tests passed\n"
     ]
    }
   ],
   "source": [
    "class Node:\n",
    "    def __init__(self, value, left = None, right = None):\n",
    "        self.value = value\n",
    "        self.left = left\n",
    "        self.right = right\n",
    "        \n",
    "    def __str__(self):\n",
    "        if self.is_leaf():\n",
    "            return f'{self.value}'\n",
    "        \n",
    "        return f'[{self.value}] -> ({self.left}, {self.right})'\n",
    "            \n",
    "    def is_leaf(self):\n",
    "        \"\"\" Returns a boolean determining whether the node is a leaf or not\"\"\"\n",
    "        if self.left is None and self.right is None:\n",
    "            return True\n",
    "        \n",
    "        return False\n",
    "    \n",
    "## Unit tests    \n",
    "def test_Node_class():\n",
    "    def test_ctor():\n",
    "        ## test leaf node initialization\n",
    "        node = Node('1')\n",
    "        assert node.value == '1'\n",
    "        \n",
    "        ## test child node initialization\n",
    "        node = Node(2, left = Node('1'), right = Node('2'))\n",
    "        assert node.value == 2\n",
    "        assert node.left.value == '1'\n",
    "        assert node.right.value == '2'\n",
    "        \n",
    "        print(\"ctor() tests passed\")\n",
    "        \n",
    "    def test_is_leaf():\n",
    "        node = Node('1')\n",
    "        assert node.is_leaf() == True\n",
    "        \n",
    "        node = Node(2, left = Node('1'), right = Node('2'))\n",
    "        assert node.is_leaf() == False\n",
    "        \n",
    "        print(\"is_leaf() method tests passed\")\n",
    "        \n",
    "    test_ctor()\n",
    "    test_is_leaf()\n",
    "    \n",
    "    print(\"Node class tests passed\")\n",
    "    \n",
    "    \n",
    "test_Node_class()"
   ]
  },
  {
   "cell_type": "markdown",
   "metadata": {},
   "source": [
    "We now need a way to **serialize and deserialize trees** that we will later use when compressing data."
   ]
  },
  {
   "cell_type": "code",
   "execution_count": 49,
   "metadata": {},
   "outputs": [
    {
     "name": "stdout",
     "output_type": "stream",
     "text": [
      "serialize() tests passed\n"
     ]
    }
   ],
   "source": [
    "def serialize(node):\n",
    "    \"\"\"Recursively serializes a node\"\"\"\n",
    "    ## recursion ends if is_leaf() returns True\n",
    "    if node.is_leaf():\n",
    "        ## check if character must be escaped\n",
    "        if node.value == '(' or node.value == '\\\\':\n",
    "            return '\\\\' + node.value\n",
    "        \n",
    "        return node.value\n",
    "        \n",
    "    return f'({serialize(node.left)}{serialize(node.right)}'\n",
    "\n",
    "## Unit tests\n",
    "def test_serialize_function():\n",
    "    ## check if special character serialization is correct\n",
    "    node = Node('\\\\')\n",
    "    assert serialize(node) == '\\\\\\\\'\n",
    "    node = Node('(')\n",
    "    assert serialize(node) == '\\\\('\n",
    "    \n",
    "    ##check if tree serialization is correct\n",
    "    ##    10\n",
    "    ##   /  \\\n",
    "    ## 'a'   5\n",
    "    ##      / \\\n",
    "    ##    'b' 'c'\n",
    "    tree = Node(10)\n",
    "    tree.left = Node('a')\n",
    "    tree.right = Node(5, left = Node('b'), right = Node('c'))\n",
    "    assert serialize(tree) == '(a(bc'\n",
    "    \n",
    "    print(\"serialize() tests passed\")\n",
    "    \n",
    "test_serialize_function()"
   ]
  },
  {
   "cell_type": "code",
   "execution_count": 19,
   "metadata": {},
   "outputs": [
    {
     "name": "stdout",
     "output_type": "stream",
     "text": [
      "deserialize() function tests passed\n"
     ]
    }
   ],
   "source": [
    "class Indexer:\n",
    "#helper class, need pointers\n",
    "    def __init__(self):\n",
    "        self.index = 0\n",
    "\n",
    "def deserialize(s):\n",
    "    \"\"\"Deserializes a given string to a binary tree\"\"\"\n",
    "    def deserialize_child(s, indexer):\n",
    "        ## if index is larger than string length, recursion stops\n",
    "        if indexer.index >= len(s):\n",
    "            return\n",
    "        \n",
    "        ## if character isnt ( return leaf node\n",
    "        if s[indexer.index] != '(':\n",
    "            ## if character is \\ go to next character\n",
    "            if s[indexer.index] == '\\\\':\n",
    "                indexer.index += 1\n",
    "                \n",
    "            indexer.index += 1\n",
    "            \n",
    "            return Node(s[indexer.index - 1])\n",
    "        else:\n",
    "        #return new node with 2 children\n",
    "            node = Node(None)\n",
    "            indexer.index += 1\n",
    "            \n",
    "            node.left = deserialize_child(s, indexer)\n",
    "            node.right = deserialize_child(s, indexer)\n",
    "            \n",
    "            return node\n",
    "        \n",
    "    return deserialize_child(s, Indexer())\n",
    "\n",
    "## Unit tests\n",
    "def test_deserialize_function():\n",
    "    ##test children deserialization\n",
    "    node1 = Node(None, Node('a'), Node('b'))\n",
    "    node2 = deserialize('(ab')\n",
    "    \n",
    "    assert serialize(node1) == serialize(node2)\n",
    "    \n",
    "    ##test special character deserialization\n",
    "    node1 = Node(None, left = Node(None, left = Node('\\\\'), right = Node('(')), right = Node('a'))\n",
    "    node2 = deserialize('((\\\\\\\\\\\\(a')\n",
    "    \n",
    "   \n",
    "    assert serialize(node1) == serialize(node2)\n",
    "\n",
    "    print('deserialize() function tests passed')\n",
    "    \n",
    "test_deserialize_function()"
   ]
  },
  {
   "cell_type": "markdown",
   "metadata": {},
   "source": [
    "#### We now have the basic data structures we will need to build huffman trees. Time to implement them."
   ]
  },
  {
   "cell_type": "code",
   "execution_count": 48,
   "metadata": {},
   "outputs": [
    {
     "name": "stdout",
     "output_type": "stream",
     "text": [
      "build_huffman_tree() tests passed\n"
     ]
    }
   ],
   "source": [
    "def build_huffman_tree(counted_data):\n",
    "    \"\"\"Builds a huffman tree using the counted_data (Counter object) provided\"\"\"\n",
    "    #map counter object to array, each character maps to a leaf node\n",
    "    data = [[Node(x[0]), x[1]] for x in counted_data.most_common()]\n",
    "    \n",
    "    #take last 2, put them in a node then remove and sort\n",
    "    while len(data) > 1:\n",
    "        left = data[-2][0]\n",
    "        right = data[-1][0]\n",
    "        \n",
    "        # sum the weights of nodes\n",
    "        weight = data[-1][1] + data[-2][1]\n",
    "        \n",
    "        node = Node(weight, left, right)\n",
    "        \n",
    "        #pop last 2\n",
    "        data.pop()\n",
    "        data.pop()\n",
    "        \n",
    "        #add the new node to list\n",
    "        data.append([node, weight])\n",
    "        \n",
    "        #sort data by weight, descending\n",
    "        data.sort(key = lambda x: -x[1])\n",
    "        \n",
    "    return data[0][0]\n",
    "    \n",
    "## Unit tests\n",
    "def test_build_huffman_tree():\n",
    "    data = Counter('aaabbcc')\n",
    "    #    7\n",
    "    #   / \\\n",
    "    #  4   a\n",
    "    # /\\\n",
    "    #b  c\n",
    "    \n",
    "    tree_result = build_huffman_tree(data)\n",
    "    tree_expected = Node(7, Node(4, Node('b'), Node('c')), Node('a'))\n",
    "    res_serial = serialize(tree_result)\n",
    "    exp_serial = serialize(tree_expected)\n",
    "    \n",
    "    assert res_serial == exp_serial\n",
    "    \n",
    "    print(\"build_huffman_tree() tests passed\")\n",
    "    \n",
    "\n",
    "test_build_huffman_tree()"
   ]
  },
  {
   "cell_type": "markdown",
   "metadata": {},
   "source": [
    "#### We now need a way to use this huffman tree to get *huffed* (compressed) data.\n",
    "To compress data, we need to know the **huffman codes from the tree**. Lets create a function to resolve those from a given tree"
   ]
  },
  {
   "cell_type": "code",
   "execution_count": 50,
   "metadata": {},
   "outputs": [
    {
     "name": "stdout",
     "output_type": "stream",
     "text": [
      "get_huffman_codes() tests passed\n"
     ]
    }
   ],
   "source": [
    "def get_huffman_codes(tree):\n",
    "    \"\"\"Returns a dictionary of huffman codes for all leaf nodes in a given tree\"\"\"\n",
    "    #dictionary to store codes\n",
    "    codes = {}\n",
    "    \n",
    "    #recursive method to traverse nodes and get codes\n",
    "    def add_node_codes(node):\n",
    "        #if leaf node, save code to dictionary and end recursion\n",
    "        if node.is_leaf():\n",
    "            codes[node.value] = node.code\n",
    "            return\n",
    "        \n",
    "        #nodes get a 0/1 added to their code for left/right respectively and have their child nodes' codes resolved recursively\n",
    "        node.left.code = node.code + \"0\"\n",
    "        add_node_codes(node.left)\n",
    "        node.right.code = node.code + \"1\"\n",
    "        add_node_codes(node.right)\n",
    "    \n",
    "    #start root node with empty code \n",
    "    tree.code = \"\"\n",
    "    add_node_codes(tree)\n",
    "    \n",
    "    return codes\n",
    "\n",
    "\n",
    "## Unit tests\n",
    "def test_get_huffman_codes():\n",
    "    tree = Node(None)\n",
    "    tree.left = Node('a')\n",
    "    tree.right = Node(None, Node('b'), Node('c'))\n",
    "    \n",
    "    codes = get_huffman_codes(tree)\n",
    "    assert codes['a'] == '0'\n",
    "    assert codes['b'] == '10'\n",
    "    assert codes['c'] == '11'\n",
    "    \n",
    "    print(\"get_huffman_codes() tests passed\")\n",
    "    \n",
    "test_get_huffman_codes()"
   ]
  },
  {
   "cell_type": "markdown",
   "metadata": {},
   "source": [
    "#### We now need a method that compresses given data.\n",
    "\n",
    "As huffman codes are sometimes shorter than a byte, we will need to store them in a variable. Whenever it gets larger than 8 bits, we will convert those to a byte. If the final sequence is not large enough to save, we will fill it up with zeros until its length is 8 bits.\n",
    "\n",
    "We need methods to convert bits to bytes and vice versa."
   ]
  },
  {
   "cell_type": "code",
   "execution_count": 51,
   "metadata": {},
   "outputs": [
    {
     "name": "stdout",
     "output_type": "stream",
     "text": [
      "bits_to_byte() tests passed\n",
      "byte_to_bits() tests passed\n"
     ]
    }
   ],
   "source": [
    "def bits_to_byte(bits):\n",
    "    \"\"\"Returns a byte representation of the [bits] string provided\"\"\"\n",
    "    #if bits is shorter than 8 chars, fill with 0s\n",
    "    if len(bits) < 8:\n",
    "        bits = bits.ljust(8, '0')\n",
    "    #start with a sum(value) of 0 and multiplier 1\n",
    "    value = 0\n",
    "    mult = 1\n",
    "    #enumerate bits in reverse [index 7 to 0]\n",
    "    for i in range(7, -1, -1):\n",
    "        value += int(bits[i]) * mult\n",
    "        mult *= 2\n",
    "    \n",
    "    return bytes([value])\n",
    "\n",
    "def byte_to_bits(byte):\n",
    "    \"\"\"Returns a string of 0's and 1's, depicting the [byte]\"\"\"\n",
    "    byte_int = int.from_bytes(byte, byteorder = \"big\")\n",
    "    \n",
    "    binary = bin(byte_int)\n",
    "    \n",
    "    return binary[2:].rjust(8, '0')\n",
    "\n",
    "# Unit tests\n",
    "def test_bits_to_byte():\n",
    "    assert bits_to_byte('0') == bytes([0])\n",
    "    assert bits_to_byte('11111111') == bytes([255])\n",
    "    assert bits_to_byte('1') == bytes([128])\n",
    "    \n",
    "    print(\"bits_to_byte() tests passed\")\n",
    "    \n",
    "def test_byte_to_bits():\n",
    "    assert byte_to_bits(bytes([255])) == '11111111'\n",
    "    assert byte_to_bits(bytes([128])) == '10000000'\n",
    "    assert byte_to_bits(bytes([4])) == '00000100'\n",
    "    assert byte_to_bits(bytes([0])) == '00000000'\n",
    "    \n",
    "    print(\"byte_to_bits() tests passed\")\n",
    "    \n",
    "test_bits_to_byte()\n",
    "test_byte_to_bits()"
   ]
  },
  {
   "cell_type": "markdown",
   "metadata": {},
   "source": [
    "#### Now that we can work with bits as well, we can get to the actual compression and decompression of data"
   ]
  },
  {
   "cell_type": "code",
   "execution_count": 54,
   "metadata": {},
   "outputs": [
    {
     "name": "stdout",
     "output_type": "stream",
     "text": [
      "enhuff() tests passed\n"
     ]
    }
   ],
   "source": [
    "def enhuff(data, tree):\n",
    "    \"\"\"Compresses the given data with the given tree\n",
    "    Returns: byte array representing the compressed data\n",
    "    \"\"\"\n",
    "    ## get codes from the tree\n",
    "    codes = get_huffman_codes(tree)\n",
    "    \n",
    "    #initialize empty bit string\n",
    "    bit_string = ''\n",
    "    #initialize empty array to store compressed data\n",
    "    bytes_ = b''\n",
    "    \n",
    "    for char in data:\n",
    "        # add huffman code to the bitstring\n",
    "        bit_string += codes[char]\n",
    "        \n",
    "        #if bitstring is longer than 8, take first 8 characters and write to bytes array\n",
    "        if len(bit_string) >= 8:\n",
    "            byte = bits_to_byte(bit_string[:8])\n",
    "            # add to bytes\n",
    "            bytes_ += byte\n",
    "            # remove first 8 bits from bitstring\n",
    "            bit_string = bit_string[8:]\n",
    "            \n",
    "    #if there are any remaining bits, write to bytes array\n",
    "    if len(bit_string) > 0:\n",
    "        byte = bits_to_byte(bit_string)\n",
    "        bytes_ += byte\n",
    "\n",
    "            \n",
    "    return bytes_\n",
    "\n",
    "# Unit tests\n",
    "def test_enhuff():\n",
    "    data = 'aaaaaaabbbbbccc'\n",
    "    tree = build_huffman_tree(Counter(data))\n",
    "\n",
    "    #     15\n",
    "    #    /  \\\n",
    "    #   8    a\n",
    "    #  / \\\n",
    "    # b   c\n",
    "    \n",
    "    #codes\n",
    "    # a : 1\n",
    "    # b : 00\n",
    "    # c : 01\n",
    "    \n",
    "    #replacing chars with codes, sequence looks like:\n",
    "    # 11111110 00000000 0010101\n",
    "    # 11111110 = 254\n",
    "    # 00000000 = 0\n",
    "    # 00101010 = 42\n",
    "    \n",
    "    assert enhuff(data, tree) == bytes([254, 0, 42])\n",
    "    \n",
    "    print(\"enhuff() tests passed\")\n",
    "    \n",
    "test_enhuff()"
   ]
  },
  {
   "cell_type": "code",
   "execution_count": 53,
   "metadata": {},
   "outputs": [
    {
     "name": "stdout",
     "output_type": "stream",
     "text": [
      "dehuff() tests passed\n"
     ]
    }
   ],
   "source": [
    "def dehuff(bytes_, tree, data_length):\n",
    "    \"\"\"Decompresses the given bytes using the tree provided\"\"\"\n",
    "    index = 0\n",
    "    data = b''\n",
    "    bits = ''\n",
    "    \n",
    "    #start at root node\n",
    "    node = tree\n",
    "\n",
    "    #resolve until expected amount of data is decoded\n",
    "    while len(data) < data_length:\n",
    "        #buffer bits so large arrays dont take too much memory\n",
    "        if len(bits) == 0:\n",
    "            bits = byte_to_bits(bytes([bytes_[index]]))\n",
    "            index += 1\n",
    "        \n",
    "        # 0 goes left, 1 goes right\n",
    "        if bits[0] == '0':\n",
    "            node = node.left\n",
    "        else:\n",
    "            node = node.right\n",
    "        \n",
    "        # if leaf node is reached, append to data array and reset node to root\n",
    "        if node.is_leaf():\n",
    "            data += node.value\n",
    "            node = tree\n",
    "        \n",
    "        # remove 1st element of bits string\n",
    "        bits = bits[1:]\n",
    "       \n",
    "    return data\n",
    "\n",
    "# Unit tests\n",
    "def test_dehuff():\n",
    "    data = b'aabc'\n",
    "    #tree:    4\n",
    "    #        / \\\n",
    "    #       a   2\n",
    "    #          / \\\n",
    "    #         b   c\n",
    "    #\n",
    "    #codes:\n",
    "    # a: 0\n",
    "    # b: 10\n",
    "    # c: 11\n",
    "    #\n",
    "    #encoded data: 001011\n",
    "    #byte:         00101100   val = 0 + 0 + 4 + 8 + 0 + 32 = 44\n",
    "    #encoded byte arr: [44]\n",
    "    \n",
    "    tree = Node(None, Node(b'a'), Node(None, Node(b'b'), Node(b'c')))\n",
    "    encoded_data = bytes([44])\n",
    "    \n",
    "    dehuffed_data = dehuff(encoded_data, tree, len(data))\n",
    "    expected = b'aabc'\n",
    "    \n",
    "    assert expected == dehuffed_data\n",
    "    \n",
    "    print(\"dehuff() tests passed\")\n",
    "    \n",
    "test_dehuff()"
   ]
  },
  {
   "cell_type": "code",
   "execution_count": 55,
   "metadata": {},
   "outputs": [],
   "source": [
    "def compress_file(filename, out_filename):\n",
    "    \"\"\"Compress a file using huffman compression\"\"\"\n",
    "    \n",
    "    def make_metadata(tree, data_length, compressed_length):\n",
    "        \"\"\"Function to create metadata for a given dataset and tree\"\"\"\n",
    "        # file should look like: [metadata_length][uncompressed_data_length][compressed_data_length][tree_serial][data]\n",
    "        # (2 * 8 bytes for data sizes, and 2 bytes for the metadata size itself)\n",
    "                                       \n",
    "        # get tree serial\n",
    "        tree_serial = serialize(tree)\n",
    "        \n",
    "        # calculate metadata(tree) length and save as 2 bytes\n",
    "        meta_length_bytes = len(tree_serial).to_bytes(2, byteorder='big')\n",
    "        # uncompressed data length save as 8 bytes\n",
    "        uncompressed_data_bytes = data_length.to_bytes(8, byteorder='big')\n",
    "        # compressed data length save as 8 bytes\n",
    "        compressed_data_bytes = compressed_length.to_bytes(8, byteorder = 'big')\n",
    "        tree_serial_bytes = str.encode(tree_serial)\n",
    "        \n",
    "        return meta_length_bytes + uncompressed_data_bytes + compressed_data_bytes + tree_serial_bytes\n",
    "    \n",
    "    # read all data as chars from file\n",
    "    with open(filename, 'r') as read_stream:\n",
    "        data = read_stream.read()\n",
    "        \n",
    "    # count data and build tree\n",
    "    counted_data = Counter(data)\n",
    "    tree = build_huffman_tree(counted_data)\n",
    "    \n",
    "    # generate encoded data\n",
    "    huffed_bytes = enhuff(data, tree)\n",
    "    encoded_data = bytes(huffed_bytes)\n",
    "    \n",
    "    # generate metadata\n",
    "    meta = make_metadata(tree, len(data), len(huffed_bytes))\n",
    "    \n",
    "    with open(out_filename, 'wb') as write_stream:\n",
    "        write_stream.write(meta)\n",
    "        write_stream.write(encoded_data)"
   ]
  },
  {
   "cell_type": "code",
   "execution_count": 56,
   "metadata": {},
   "outputs": [],
   "source": [
    "def decompress_file(filename, out_filename):\n",
    "    \"\"\"Decompresses a given huffman compressed file\"\"\"\n",
    "    # file should look like: [metadata_length][uncompressed_data_length][compressed_data_length][tree_serial][data]\n",
    "    \n",
    "    # after reading the tree from metadata the leaves are char values, we need to convert them to bytes\n",
    "    def replace_leaves_with_bytes(node):\n",
    "        if node.is_leaf():\n",
    "            if not isinstance(node.value, bytes):\n",
    "                node.value = node.value.encode()\n",
    "            return\n",
    "        else:\n",
    "            replace_leaves_with_bytes(node.left)\n",
    "            replace_leaves_with_bytes(node.right)\n",
    "    \n",
    "    with open(filename, 'rb') as read_stream:\n",
    "        #read first 18 bytes of file to resolve metadata\n",
    "        meta = read_stream.read(18)\n",
    "        \n",
    "        #first 2 bytes resolve tree length\n",
    "        tree_length = int.from_bytes(meta[:2], byteorder = 'big')\n",
    "        #next 8 bytes resolve uncompressed data length\n",
    "        uncompressed_data_length = int.from_bytes(meta[3:10], byteorder = 'big')\n",
    "        #next 8 bytes resolve compressed data length\n",
    "        compressed_data_length = int.from_bytes(meta[12:], byteorder = 'big')\n",
    "        \n",
    "        #read tree_length characters\n",
    "        tree_bytes = read_stream.read(tree_length)\n",
    "        #decode tree\n",
    "        tree_serial = tree_bytes.decode()\n",
    "        #deserialize tree\n",
    "        tree = deserialize(tree_serial)\n",
    "        #convert leaves(chars) to bytes \n",
    "        replace_leaves_with_bytes(tree)\n",
    "        \n",
    "        #read next compressed_data_length chars\n",
    "        data = read_stream.read(compressed_data_length)\n",
    "        \n",
    "        \n",
    "    #dehuff data\n",
    "    dehuffed_data = dehuff(data, tree, uncompressed_data_length)\n",
    "        \n",
    "    #write dehuffed data to file\n",
    "    with open(out_filename, 'wb') as write_stream:\n",
    "        write_stream.write(dehuffed_data)"
   ]
  },
  {
   "cell_type": "markdown",
   "metadata": {},
   "source": [
    "## Compression ratio\n",
    "\n",
    "Now that we can compress some files, it's time to test the efficiency of the algorithm.\n",
    "\n",
    "We can start by compressing some text, ```lorem.txt``` contains a bunch of placeholder text. Let's see how much memory we can save by using compression."
   ]
  },
  {
   "cell_type": "code",
   "execution_count": 59,
   "metadata": {},
   "outputs": [],
   "source": [
    "def compress_and_decompress(filename):\n",
    "    compress_file(filename, filename + '.huffed')\n",
    "    decompress_file(filename + '.huffed', 'unhuffed_' + filename)"
   ]
  },
  {
   "cell_type": "code",
   "execution_count": 62,
   "metadata": {},
   "outputs": [],
   "source": [
    "compress_and_decompress('lorem.txt')"
   ]
  },
  {
   "cell_type": "code",
   "execution_count": 65,
   "metadata": {},
   "outputs": [
    {
     "name": "stdout",
     "output_type": "stream",
     "text": [
      "6767 3669 6749\n"
     ]
    }
   ],
   "source": [
    "original_size = os.path.getsize('lorem.txt')\n",
    "compressed_size = os.path.getsize('lorem.txt.huffed')\n",
    "decompressed_size = os.path.getsize('unhuffed_lorem.txt')\n",
    "\n",
    "print(original_size, compressed_size, decompressed_size)"
   ]
  },
  {
   "cell_type": "markdown",
   "metadata": {},
   "source": [
    "We can see that sizes for the original file and it's decompressed counterpart are different. This is because of line endings. In **Windows** the line endings are encoded as the characters ```\\r\\n```, while in **Unix** based systems, it's just ```\\n```.\n",
    "Since while encoding we did not specify the type, default encoding is **Unix**. The files are still readable.\n",
    "\n",
    "Let's check how much data we have saved."
   ]
  },
  {
   "cell_type": "code",
   "execution_count": 69,
   "metadata": {},
   "outputs": [
    {
     "data": {
      "text/plain": [
       "54.21900398995123"
      ]
     },
     "execution_count": 69,
     "metadata": {},
     "output_type": "execute_result"
    }
   ],
   "source": [
    "compressed_size / original_size * 100"
   ]
  },
  {
   "cell_type": "markdown",
   "metadata": {},
   "source": [
    "The compressed file is just **54.2%** the size of it's uncompressed counterpart."
   ]
  },
  {
   "cell_type": "markdown",
   "metadata": {},
   "source": [
    "## Comparison to other compression algorithms\n",
    "\n",
    "Huffman compression only makes frequent characters shorter to express. Let's say we have a file with the following content:\n",
    "```\n",
    "compression compression compression compression\n",
    "compression compression compression compression\n",
    "compression compression compression compression\n",
    "compression compression compression compression\n",
    "compression compression compression compression\n",
    "```\n",
    "\n",
    "Let's check how huffman compression performs for this file."
   ]
  },
  {
   "cell_type": "code",
   "execution_count": 80,
   "metadata": {},
   "outputs": [
    {
     "name": "stdout",
     "output_type": "stream",
     "text": [
      "243 141 239\n",
      "58.0246913580247\n"
     ]
    }
   ],
   "source": [
    "compress_and_decompress('compression.txt')\n",
    "original_size = os.path.getsize('compression.txt')\n",
    "compressed_size = os.path.getsize('compression.txt.huffed')\n",
    "decompressed_size = os.path.getsize('unhuffed_compression.txt')\n",
    "\n",
    "print(original_size, compressed_size, decompressed_size)\n",
    "\n",
    "print(compressed_size / original_size * 100)"
   ]
  },
  {
   "cell_type": "markdown",
   "metadata": {},
   "source": [
    "We have **58 %** compression on this file. More advanced algorithms use **grouped data**.\n",
    "\n",
    "The word ``compression`` occurs 20 times in this file. The other characters that we have are **whitespace** and **newline**.\n",
    "\n",
    "We could use a **reference** to the word ``compression`` to express it.\n",
    "\n",
    "``compression = a``\n",
    "\n",
    "The text, replacing every ``compression`` except the first and having a dictionary of all references to words, could look like this:\n",
    "```\n",
    "<meta>\n",
    "compression=a\n",
    "</meta>\n",
    "a a a a\n",
    "a a a a\n",
    "a a a a\n",
    "a a a a\n",
    "```\n",
    "\n",
    "There is still a **pattern** in the data. ``a a a a`` is a sequence we see a whole **5 times**\n",
    "```\n",
    "<meta>\n",
    "compression=a\n",
    "a a a a=b\n",
    "</meta>\n",
    "b\n",
    "b\n",
    "b\n",
    "b\n",
    "```\n",
    "\n",
    "We still have the ``b\\n`` (b and a new line next to it) appear 4 times, we could put this in the dictionary too.\n",
    "```\n",
    "<meta>\n",
    "compression=a\n",
    "a a a a=b\n",
    "b\\n = c\n",
    "</meta>\n",
    "cccc\n",
    "```\n",
    "\n",
    "After following these simple steps of **grouping repeating data and using references to other data that we already know**, let's check the file total length of this sequence."
   ]
  },
  {
   "cell_type": "code",
   "execution_count": 79,
   "metadata": {},
   "outputs": [
    {
     "data": {
      "text/plain": [
       "49"
      ]
     },
     "execution_count": 79,
     "metadata": {},
     "output_type": "execute_result"
    }
   ],
   "source": [
    "s = \"<meta>\\n\\compression=a\\na a a a=b\\nb\\n = c</meta>cccc\"\n",
    "len(s)"
   ]
  },
  {
   "cell_type": "markdown",
   "metadata": {},
   "source": [
    "The total length of the original file was **243**, we now have a length of **49**. That's **20%** of the original file size.\n",
    "\n",
    "#### To conclude, Huffman compression can be very efficient to encode repeating data, but when it comes to <font color=\"red\">repeating sequences of data</font> we can use dictionaries, references, and other *tricks* to compress data even further. Modern compression algorithms combine both huffman compression and the method we used above.\n",
    "\n",
    "\n",
    "### Sources\n",
    "[Huffman Coding: A CS2 Assignment, Duke University](https://www2.cs.duke.edu/csed/poop/huff/info/)\n",
    "\n",
    "[Huffman Coding, Purdue University](https://engineering.purdue.edu/ece264/17au/hw/HW13?alt=huffman)\n",
    "\n",
    "[How Huffman Trees Work, Computerphile @ Youtube](https://www.youtube.com/watch?v=umTbivyJoiI)\n",
    "\n",
    "[Prefix code, Wikipedia](https://en.wikipedia.org/wiki/Prefix_code)"
   ]
  }
 ],
 "metadata": {
  "kernelspec": {
   "display_name": "Python 3",
   "language": "python",
   "name": "python3"
  },
  "language_info": {
   "codemirror_mode": {
    "name": "ipython",
    "version": 3
   },
   "file_extension": ".py",
   "mimetype": "text/x-python",
   "name": "python",
   "nbconvert_exporter": "python",
   "pygments_lexer": "ipython3",
   "version": "3.7.6"
  }
 },
 "nbformat": 4,
 "nbformat_minor": 4
}
